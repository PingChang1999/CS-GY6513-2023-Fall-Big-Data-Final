{
  "nbformat": 4,
  "nbformat_minor": 0,
  "metadata": {
    "colab": {
      "provenance": []
    },
    "kernelspec": {
      "name": "python3",
      "display_name": "Python 3"
    },
    "language_info": {
      "name": "python"
    }
  },
  "cells": [
    {
      "cell_type": "code",
      "execution_count": null,
      "metadata": {
        "id": "ORU5otUXIqWL"
      },
      "outputs": [],
      "source": [
        "!pip install pyspark"
      ]
    },
    {
      "cell_type": "markdown",
      "metadata": {
        "id": "S1UYIP9M3o2x"
      },
      "source": [
        "data: https://www.nyc.gov/site/tlc/about/tlc-trip-record-data.page\n",
        "\n",
        "data columns: https://www.nyc.gov/assets/tlc/downloads/pdf/data_dictionary_trip_records_yellow.pdf\n",
        "\n",
        "taxi_zone_data: https://data.cityofnewyork.us/Transportation/NYC-Taxi-Zones/d3c5-ddgc"
      ]
    },
    {
      "cell_type": "code",
      "execution_count": null,
      "metadata": {
        "colab": {
          "base_uri": "https://localhost:8080/"
        },
        "id": "FUvedl4qRST7",
        "outputId": "c6b1b471-c1ff-4e41-e430-fb3e8794bf8e",
        "tags": []
      },
      "outputs": [
        {
          "name": "stderr",
          "output_type": "stream",
          "text": [
            "Setting default log level to \"WARN\".\n",
            "To adjust logging level use sc.setLogLevel(newLevel). For SparkR, use setLogLevel(newLevel).\n",
            "23/12/06 17:29:37 WARN NativeCodeLoader: Unable to load native-hadoop library for your platform... using builtin-java classes where applicable\n",
            "/opt/conda/envs/bigdata/lib/python3.10/site-packages/pyspark/sql/context.py:158: FutureWarning: Deprecated in 3.0.0. Use SparkSession.builder.getOrCreate() instead.\n",
            "  warnings.warn(\n"
          ]
        }
      ],
      "source": [
        "import os\n",
        "import pyspark\n",
        "conf = pyspark.SparkConf()\n",
        "#conf.set('spark.ui.proxyBase', '/user/' + os.environ['JUPYTERHUB_USER'] + '/proxy/4041')\n",
        "#conf.set('spark.sql.repl.eagerEval.enabled', True)\n",
        "conf.set('spark.driver.memory','4g')\n",
        "\n",
        "sc = pyspark.SparkContext(conf=conf)\n",
        "spark = pyspark.SQLContext.getOrCreate(sc)"
      ]
    },
    {
      "cell_type": "code",
      "execution_count": null,
      "metadata": {
        "colab": {
          "base_uri": "https://localhost:8080/"
        },
        "id": "_irooJ2tI-5W",
        "outputId": "461b86f1-7967-4519-8a65-742b32896fff",
        "tags": []
      },
      "outputs": [
        {
          "data": {
            "text/plain": [
              "<pyspark.sql.context.SQLContext at 0x7f7d48b251b0>"
            ]
          },
          "execution_count": 3,
          "metadata": {},
          "output_type": "execute_result"
        }
      ],
      "source": [
        "spark"
      ]
    },
    {
      "cell_type": "code",
      "execution_count": null,
      "metadata": {
        "id": "oDmxiF8wJAfq",
        "tags": []
      },
      "outputs": [],
      "source": [
        "from pyspark.sql.types import IntegerType, FloatType\n",
        "from pyspark.sql.functions import hour, when\n",
        "from pyspark.sql.functions import count, avg\n",
        "from pyspark.sql.functions import sum\n",
        "from pyspark.sql.functions import col\n",
        "from pyspark.sql.functions import date_format, to_timestamp\n",
        "import pandas as pd\n",
        "import matplotlib.pyplot as plt"
      ]
    },
    {
      "cell_type": "code",
      "execution_count": null,
      "metadata": {
        "id": "SyuVT12EJUyj",
        "tags": [],
        "outputId": "e10a350a-90a4-4a93-ac51-41d120e8cf3c"
      },
      "outputs": [
        {
          "name": "stderr",
          "output_type": "stream",
          "text": [
            "                                                                                \r"
          ]
        }
      ],
      "source": [
        "df1 = spark.read.parquet('./content/taxi_data_2023/yellow_tripdata_2023-01.parquet')"
      ]
    },
    {
      "cell_type": "code",
      "execution_count": null,
      "metadata": {
        "id": "wCF4gjSaeRQu",
        "tags": []
      },
      "outputs": [],
      "source": [
        "df2 = spark.read.parquet('./content/taxi_data_2023/yellow_tripdata_2023-02.parquet')"
      ]
    },
    {
      "cell_type": "code",
      "execution_count": null,
      "metadata": {
        "id": "BeVt23rDeRdq",
        "tags": []
      },
      "outputs": [],
      "source": [
        "df3 = spark.read.parquet('./content/taxi_data_2023/yellow_tripdata_2023-03.parquet')"
      ]
    },
    {
      "cell_type": "code",
      "execution_count": null,
      "metadata": {
        "id": "WlVSSPrkeRld",
        "tags": []
      },
      "outputs": [],
      "source": [
        "df4 = spark.read.parquet('./content/taxi_data_2023/yellow_tripdata_2023-04.parquet')"
      ]
    },
    {
      "cell_type": "code",
      "execution_count": null,
      "metadata": {
        "id": "3jHQEWfheRrZ",
        "tags": []
      },
      "outputs": [],
      "source": [
        "df5 = spark.read.parquet('./content/taxi_data_2023/yellow_tripdata_2023-05.parquet')"
      ]
    },
    {
      "cell_type": "code",
      "execution_count": null,
      "metadata": {
        "id": "uq6T7qBGeRwc",
        "tags": []
      },
      "outputs": [],
      "source": [
        "df6 = spark.read.parquet('./content/taxi_data_2023/yellow_tripdata_2023-06.parquet')"
      ]
    },
    {
      "cell_type": "code",
      "execution_count": null,
      "metadata": {
        "id": "67R2Dct4eRzp",
        "tags": []
      },
      "outputs": [],
      "source": [
        "df7 = spark.read.parquet('./content/taxi_data_2023/yellow_tripdata_2023-07.parquet')"
      ]
    },
    {
      "cell_type": "code",
      "execution_count": null,
      "metadata": {
        "id": "kON5zreXeR1-",
        "tags": []
      },
      "outputs": [],
      "source": [
        "df8 = spark.read.parquet('./content/taxi_data_2023/yellow_tripdata_2023-08.parquet')"
      ]
    },
    {
      "cell_type": "code",
      "execution_count": null,
      "metadata": {
        "id": "C41cGx_ceR4Y",
        "tags": []
      },
      "outputs": [],
      "source": [
        "df9 = spark.read.parquet('./content/taxi_data_2023/yellow_tripdata_2023-09.parquet')"
      ]
    },
    {
      "cell_type": "code",
      "execution_count": null,
      "metadata": {
        "id": "Amo1nlHDeR6b",
        "tags": []
      },
      "outputs": [],
      "source": [
        "# Combining all the dataframe months into a single dataframe\n",
        "df = df1.unionAll(df2).unionAll(df3).unionAll(df4).unionAll(df5).unionAll(df6).unionAll(df7).unionAll(df8).unionAll(df9)"
      ]
    },
    {
      "cell_type": "code",
      "execution_count": null,
      "metadata": {
        "id": "37a9PxMuJLgE",
        "tags": []
      },
      "outputs": [],
      "source": [
        "# Cleaning up the data\n",
        "df = df.dropna()\n",
        "df = df.withColumn(\"Passenger_count\", df[\"Passenger_count\"].cast(IntegerType()))\n",
        "df = df.withColumn(\"Trip_distance\", df[\"Trip_distance\"].cast(FloatType()))"
      ]
    },
    {
      "cell_type": "code",
      "execution_count": null,
      "metadata": {
        "id": "NQ-39CIJfgsE",
        "tags": []
      },
      "outputs": [],
      "source": [
        "# Extracting the hour from the pickoff/dropoff columns\n",
        "df = df.withColumn(\"pickup_hour\", hour(\"tpep_pickup_datetime\"))\n",
        "df = df.withColumn(\"dropoff_hour\", hour(\"tpep_dropoff_datetime\"))"
      ]
    },
    {
      "cell_type": "code",
      "execution_count": null,
      "metadata": {
        "colab": {
          "base_uri": "https://localhost:8080/",
          "height": 255
        },
        "id": "BaIdrVTte2-V",
        "outputId": "03dc7017-9412-4ac4-8948-a87249fdb736",
        "tags": []
      },
      "outputs": [
        {
          "name": "stderr",
          "output_type": "stream",
          "text": [
            "                                                                                \r"
          ]
        },
        {
          "data": {
            "text/html": [
              "<div>\n",
              "<style scoped>\n",
              "    .dataframe tbody tr th:only-of-type {\n",
              "        vertical-align: middle;\n",
              "    }\n",
              "\n",
              "    .dataframe tbody tr th {\n",
              "        vertical-align: top;\n",
              "    }\n",
              "\n",
              "    .dataframe thead th {\n",
              "        text-align: right;\n",
              "    }\n",
              "</style>\n",
              "<table border=\"1\" class=\"dataframe\">\n",
              "  <thead>\n",
              "    <tr style=\"text-align: right;\">\n",
              "      <th></th>\n",
              "      <th>VendorID</th>\n",
              "      <th>tpep_pickup_datetime</th>\n",
              "      <th>tpep_dropoff_datetime</th>\n",
              "      <th>Passenger_count</th>\n",
              "      <th>Trip_distance</th>\n",
              "      <th>RatecodeID</th>\n",
              "      <th>store_and_fwd_flag</th>\n",
              "      <th>PULocationID</th>\n",
              "      <th>DOLocationID</th>\n",
              "      <th>payment_type</th>\n",
              "      <th>...</th>\n",
              "      <th>extra</th>\n",
              "      <th>mta_tax</th>\n",
              "      <th>tip_amount</th>\n",
              "      <th>tolls_amount</th>\n",
              "      <th>improvement_surcharge</th>\n",
              "      <th>total_amount</th>\n",
              "      <th>congestion_surcharge</th>\n",
              "      <th>airport_fee</th>\n",
              "      <th>pickup_hour</th>\n",
              "      <th>dropoff_hour</th>\n",
              "    </tr>\n",
              "  </thead>\n",
              "  <tbody>\n",
              "    <tr>\n",
              "      <th>0</th>\n",
              "      <td>2</td>\n",
              "      <td>2023-01-01 00:32:10</td>\n",
              "      <td>2023-01-01 00:40:36</td>\n",
              "      <td>1</td>\n",
              "      <td>0.97</td>\n",
              "      <td>1.0</td>\n",
              "      <td>N</td>\n",
              "      <td>161</td>\n",
              "      <td>141</td>\n",
              "      <td>2</td>\n",
              "      <td>...</td>\n",
              "      <td>1.00</td>\n",
              "      <td>0.5</td>\n",
              "      <td>0.00</td>\n",
              "      <td>0.0</td>\n",
              "      <td>1.0</td>\n",
              "      <td>14.30</td>\n",
              "      <td>2.5</td>\n",
              "      <td>0.00</td>\n",
              "      <td>0</td>\n",
              "      <td>0</td>\n",
              "    </tr>\n",
              "    <tr>\n",
              "      <th>1</th>\n",
              "      <td>2</td>\n",
              "      <td>2023-01-01 00:55:08</td>\n",
              "      <td>2023-01-01 01:01:27</td>\n",
              "      <td>1</td>\n",
              "      <td>1.10</td>\n",
              "      <td>1.0</td>\n",
              "      <td>N</td>\n",
              "      <td>43</td>\n",
              "      <td>237</td>\n",
              "      <td>1</td>\n",
              "      <td>...</td>\n",
              "      <td>1.00</td>\n",
              "      <td>0.5</td>\n",
              "      <td>4.00</td>\n",
              "      <td>0.0</td>\n",
              "      <td>1.0</td>\n",
              "      <td>16.90</td>\n",
              "      <td>2.5</td>\n",
              "      <td>0.00</td>\n",
              "      <td>0</td>\n",
              "      <td>1</td>\n",
              "    </tr>\n",
              "    <tr>\n",
              "      <th>2</th>\n",
              "      <td>2</td>\n",
              "      <td>2023-01-01 00:25:04</td>\n",
              "      <td>2023-01-01 00:37:49</td>\n",
              "      <td>1</td>\n",
              "      <td>2.51</td>\n",
              "      <td>1.0</td>\n",
              "      <td>N</td>\n",
              "      <td>48</td>\n",
              "      <td>238</td>\n",
              "      <td>1</td>\n",
              "      <td>...</td>\n",
              "      <td>1.00</td>\n",
              "      <td>0.5</td>\n",
              "      <td>15.00</td>\n",
              "      <td>0.0</td>\n",
              "      <td>1.0</td>\n",
              "      <td>34.90</td>\n",
              "      <td>2.5</td>\n",
              "      <td>0.00</td>\n",
              "      <td>0</td>\n",
              "      <td>0</td>\n",
              "    </tr>\n",
              "    <tr>\n",
              "      <th>3</th>\n",
              "      <td>1</td>\n",
              "      <td>2023-01-01 00:03:48</td>\n",
              "      <td>2023-01-01 00:13:25</td>\n",
              "      <td>0</td>\n",
              "      <td>1.90</td>\n",
              "      <td>1.0</td>\n",
              "      <td>N</td>\n",
              "      <td>138</td>\n",
              "      <td>7</td>\n",
              "      <td>1</td>\n",
              "      <td>...</td>\n",
              "      <td>7.25</td>\n",
              "      <td>0.5</td>\n",
              "      <td>0.00</td>\n",
              "      <td>0.0</td>\n",
              "      <td>1.0</td>\n",
              "      <td>20.85</td>\n",
              "      <td>0.0</td>\n",
              "      <td>1.25</td>\n",
              "      <td>0</td>\n",
              "      <td>0</td>\n",
              "    </tr>\n",
              "    <tr>\n",
              "      <th>4</th>\n",
              "      <td>2</td>\n",
              "      <td>2023-01-01 00:10:29</td>\n",
              "      <td>2023-01-01 00:21:19</td>\n",
              "      <td>1</td>\n",
              "      <td>1.43</td>\n",
              "      <td>1.0</td>\n",
              "      <td>N</td>\n",
              "      <td>107</td>\n",
              "      <td>79</td>\n",
              "      <td>1</td>\n",
              "      <td>...</td>\n",
              "      <td>1.00</td>\n",
              "      <td>0.5</td>\n",
              "      <td>3.28</td>\n",
              "      <td>0.0</td>\n",
              "      <td>1.0</td>\n",
              "      <td>19.68</td>\n",
              "      <td>2.5</td>\n",
              "      <td>0.00</td>\n",
              "      <td>0</td>\n",
              "      <td>0</td>\n",
              "    </tr>\n",
              "  </tbody>\n",
              "</table>\n",
              "<p>5 rows × 21 columns</p>\n",
              "</div>"
            ],
            "text/plain": [
              "   VendorID tpep_pickup_datetime tpep_dropoff_datetime  Passenger_count  \\\n",
              "0         2  2023-01-01 00:32:10   2023-01-01 00:40:36                1   \n",
              "1         2  2023-01-01 00:55:08   2023-01-01 01:01:27                1   \n",
              "2         2  2023-01-01 00:25:04   2023-01-01 00:37:49                1   \n",
              "3         1  2023-01-01 00:03:48   2023-01-01 00:13:25                0   \n",
              "4         2  2023-01-01 00:10:29   2023-01-01 00:21:19                1   \n",
              "\n",
              "   Trip_distance  RatecodeID store_and_fwd_flag  PULocationID  DOLocationID  \\\n",
              "0           0.97         1.0                  N           161           141   \n",
              "1           1.10         1.0                  N            43           237   \n",
              "2           2.51         1.0                  N            48           238   \n",
              "3           1.90         1.0                  N           138             7   \n",
              "4           1.43         1.0                  N           107            79   \n",
              "\n",
              "   payment_type  ...  extra  mta_tax  tip_amount  tolls_amount  \\\n",
              "0             2  ...   1.00      0.5        0.00           0.0   \n",
              "1             1  ...   1.00      0.5        4.00           0.0   \n",
              "2             1  ...   1.00      0.5       15.00           0.0   \n",
              "3             1  ...   7.25      0.5        0.00           0.0   \n",
              "4             1  ...   1.00      0.5        3.28           0.0   \n",
              "\n",
              "   improvement_surcharge  total_amount  congestion_surcharge  airport_fee  \\\n",
              "0                    1.0         14.30                   2.5         0.00   \n",
              "1                    1.0         16.90                   2.5         0.00   \n",
              "2                    1.0         34.90                   2.5         0.00   \n",
              "3                    1.0         20.85                   0.0         1.25   \n",
              "4                    1.0         19.68                   2.5         0.00   \n",
              "\n",
              "   pickup_hour  dropoff_hour  \n",
              "0            0             0  \n",
              "1            0             1  \n",
              "2            0             0  \n",
              "3            0             0  \n",
              "4            0             0  \n",
              "\n",
              "[5 rows x 21 columns]"
            ]
          },
          "execution_count": 17,
          "metadata": {},
          "output_type": "execute_result"
        }
      ],
      "source": [
        "# Checking how our data looks\n",
        "df.limit(5).toPandas()"
      ]
    },
    {
      "cell_type": "code",
      "execution_count": null,
      "metadata": {
        "colab": {
          "base_uri": "https://localhost:8080/",
          "height": 802
        },
        "id": "tL1532Rwe7B3",
        "outputId": "8f656343-bd3e-427b-c0e6-c3060530724b",
        "tags": []
      },
      "outputs": [
        {
          "name": "stderr",
          "output_type": "stream",
          "text": [
            "                                                                                \r"
          ]
        },
        {
          "data": {
            "text/html": [
              "<div>\n",
              "<style scoped>\n",
              "    .dataframe tbody tr th:only-of-type {\n",
              "        vertical-align: middle;\n",
              "    }\n",
              "\n",
              "    .dataframe tbody tr th {\n",
              "        vertical-align: top;\n",
              "    }\n",
              "\n",
              "    .dataframe thead th {\n",
              "        text-align: right;\n",
              "    }\n",
              "</style>\n",
              "<table border=\"1\" class=\"dataframe\">\n",
              "  <thead>\n",
              "    <tr style=\"text-align: right;\">\n",
              "      <th></th>\n",
              "      <th>pickup_hour</th>\n",
              "      <th>num_trips</th>\n",
              "    </tr>\n",
              "  </thead>\n",
              "  <tbody>\n",
              "    <tr>\n",
              "      <th>0</th>\n",
              "      <td>12</td>\n",
              "      <td>1500100</td>\n",
              "    </tr>\n",
              "    <tr>\n",
              "      <th>1</th>\n",
              "      <td>22</td>\n",
              "      <td>1408249</td>\n",
              "    </tr>\n",
              "    <tr>\n",
              "      <th>2</th>\n",
              "      <td>1</td>\n",
              "      <td>512370</td>\n",
              "    </tr>\n",
              "    <tr>\n",
              "      <th>3</th>\n",
              "      <td>13</td>\n",
              "      <td>1545847</td>\n",
              "    </tr>\n",
              "    <tr>\n",
              "      <th>4</th>\n",
              "      <td>6</td>\n",
              "      <td>375709</td>\n",
              "    </tr>\n",
              "    <tr>\n",
              "      <th>5</th>\n",
              "      <td>16</td>\n",
              "      <td>1696000</td>\n",
              "    </tr>\n",
              "    <tr>\n",
              "      <th>6</th>\n",
              "      <td>3</td>\n",
              "      <td>220478</td>\n",
              "    </tr>\n",
              "    <tr>\n",
              "      <th>7</th>\n",
              "      <td>20</td>\n",
              "      <td>1529819</td>\n",
              "    </tr>\n",
              "    <tr>\n",
              "      <th>8</th>\n",
              "      <td>5</td>\n",
              "      <td>153711</td>\n",
              "    </tr>\n",
              "    <tr>\n",
              "      <th>9</th>\n",
              "      <td>19</td>\n",
              "      <td>1719645</td>\n",
              "    </tr>\n",
              "    <tr>\n",
              "      <th>10</th>\n",
              "      <td>15</td>\n",
              "      <td>1689720</td>\n",
              "    </tr>\n",
              "    <tr>\n",
              "      <th>11</th>\n",
              "      <td>17</td>\n",
              "      <td>1838243</td>\n",
              "    </tr>\n",
              "    <tr>\n",
              "      <th>12</th>\n",
              "      <td>9</td>\n",
              "      <td>1166878</td>\n",
              "    </tr>\n",
              "    <tr>\n",
              "      <th>13</th>\n",
              "      <td>4</td>\n",
              "      <td>142047</td>\n",
              "    </tr>\n",
              "    <tr>\n",
              "      <th>14</th>\n",
              "      <td>8</td>\n",
              "      <td>1021485</td>\n",
              "    </tr>\n",
              "    <tr>\n",
              "      <th>15</th>\n",
              "      <td>23</td>\n",
              "      <td>1117401</td>\n",
              "    </tr>\n",
              "    <tr>\n",
              "      <th>16</th>\n",
              "      <td>7</td>\n",
              "      <td>729771</td>\n",
              "    </tr>\n",
              "    <tr>\n",
              "      <th>17</th>\n",
              "      <td>10</td>\n",
              "      <td>1273507</td>\n",
              "    </tr>\n",
              "    <tr>\n",
              "      <th>18</th>\n",
              "      <td>21</td>\n",
              "      <td>1523542</td>\n",
              "    </tr>\n",
              "    <tr>\n",
              "      <th>19</th>\n",
              "      <td>11</td>\n",
              "      <td>1382009</td>\n",
              "    </tr>\n",
              "    <tr>\n",
              "      <th>20</th>\n",
              "      <td>14</td>\n",
              "      <td>1654979</td>\n",
              "    </tr>\n",
              "    <tr>\n",
              "      <th>21</th>\n",
              "      <td>2</td>\n",
              "      <td>338187</td>\n",
              "    </tr>\n",
              "    <tr>\n",
              "      <th>22</th>\n",
              "      <td>0</td>\n",
              "      <td>765269</td>\n",
              "    </tr>\n",
              "    <tr>\n",
              "      <th>23</th>\n",
              "      <td>18</td>\n",
              "      <td>1924944</td>\n",
              "    </tr>\n",
              "  </tbody>\n",
              "</table>\n",
              "</div>"
            ],
            "text/plain": [
              "    pickup_hour  num_trips\n",
              "0            12    1500100\n",
              "1            22    1408249\n",
              "2             1     512370\n",
              "3            13    1545847\n",
              "4             6     375709\n",
              "5            16    1696000\n",
              "6             3     220478\n",
              "7            20    1529819\n",
              "8             5     153711\n",
              "9            19    1719645\n",
              "10           15    1689720\n",
              "11           17    1838243\n",
              "12            9    1166878\n",
              "13            4     142047\n",
              "14            8    1021485\n",
              "15           23    1117401\n",
              "16            7     729771\n",
              "17           10    1273507\n",
              "18           21    1523542\n",
              "19           11    1382009\n",
              "20           14    1654979\n",
              "21            2     338187\n",
              "22            0     765269\n",
              "23           18    1924944"
            ]
          },
          "execution_count": 18,
          "metadata": {},
          "output_type": "execute_result"
        }
      ],
      "source": [
        "# data analysis: showing the total number of trips in each hour of the day\n",
        "df.groupBy(\"pickup_hour\").agg(count(\"*\").alias(\"num_trips\")).toPandas()"
      ]
    },
    {
      "cell_type": "code",
      "execution_count": null,
      "metadata": {
        "colab": {
          "base_uri": "https://localhost:8080/",
          "height": 564
        },
        "id": "dMmcD1YTklXS",
        "outputId": "55da7ec0-e3dc-4814-99e0-9766c4b61faa",
        "tags": []
      },
      "outputs": [
        {
          "name": "stderr",
          "output_type": "stream",
          "text": [
            "                                                                                \r"
          ]
        },
        {
          "data": {
            "image/png": "[encoded data removed]",
            "text/plain": [
              "<Figure size 1000x600 with 1 Axes>"
            ]
          },
          "metadata": {},
          "output_type": "display_data"
        }
      ],
      "source": [
        "df_pickup = df.groupBy(\"pickup_hour\").agg(count(\"*\").alias(\"num_trips\")).toPandas()\n",
        "\n",
        "plt.figure(figsize=(10, 6))\n",
        "plt.bar(df_pickup[\"pickup_hour\"], df_pickup[\"num_trips\"])\n",
        "plt.xlabel(\"Hour of Day\")\n",
        "plt.ylabel(\"# Trips\")\n",
        "plt.title(\"# Trips per Pickup Hour\")\n",
        "plt.show()"
      ]
    },
    {
      "cell_type": "code",
      "execution_count": null,
      "metadata": {
        "colab": {
          "base_uri": "https://localhost:8080/",
          "height": 423
        },
        "id": "3Z5py5tP2blk",
        "outputId": "6fb0e91d-47ef-4e9f-97b3-57f47f5ae655",
        "tags": []
      },
      "outputs": [
        {
          "name": "stderr",
          "output_type": "stream",
          "text": [
            "                                                                                \r"
          ]
        },
        {
          "data": {
            "text/html": [
              "<div>\n",
              "<style scoped>\n",
              "    .dataframe tbody tr th:only-of-type {\n",
              "        vertical-align: middle;\n",
              "    }\n",
              "\n",
              "    .dataframe tbody tr th {\n",
              "        vertical-align: top;\n",
              "    }\n",
              "\n",
              "    .dataframe thead th {\n",
              "        text-align: right;\n",
              "    }\n",
              "</style>\n",
              "<table border=\"1\" class=\"dataframe\">\n",
              "  <thead>\n",
              "    <tr style=\"text-align: right;\">\n",
              "      <th></th>\n",
              "      <th>PULocationID</th>\n",
              "      <th>trip_nums</th>\n",
              "    </tr>\n",
              "  </thead>\n",
              "  <tbody>\n",
              "    <tr>\n",
              "      <th>0</th>\n",
              "      <td>26</td>\n",
              "      <td>805</td>\n",
              "    </tr>\n",
              "    <tr>\n",
              "      <th>1</th>\n",
              "      <td>29</td>\n",
              "      <td>844</td>\n",
              "    </tr>\n",
              "    <tr>\n",
              "      <th>2</th>\n",
              "      <td>65</td>\n",
              "      <td>15833</td>\n",
              "    </tr>\n",
              "    <tr>\n",
              "      <th>3</th>\n",
              "      <td>191</td>\n",
              "      <td>1780</td>\n",
              "    </tr>\n",
              "    <tr>\n",
              "      <th>4</th>\n",
              "      <td>222</td>\n",
              "      <td>1228</td>\n",
              "    </tr>\n",
              "    <tr>\n",
              "      <th>...</th>\n",
              "      <td>...</td>\n",
              "      <td>...</td>\n",
              "    </tr>\n",
              "    <tr>\n",
              "      <th>257</th>\n",
              "      <td>105</td>\n",
              "      <td>7</td>\n",
              "    </tr>\n",
              "    <tr>\n",
              "      <th>258</th>\n",
              "      <td>176</td>\n",
              "      <td>12</td>\n",
              "    </tr>\n",
              "    <tr>\n",
              "      <th>259</th>\n",
              "      <td>59</td>\n",
              "      <td>41</td>\n",
              "    </tr>\n",
              "    <tr>\n",
              "      <th>260</th>\n",
              "      <td>84</td>\n",
              "      <td>12</td>\n",
              "    </tr>\n",
              "    <tr>\n",
              "      <th>261</th>\n",
              "      <td>27</td>\n",
              "      <td>14</td>\n",
              "    </tr>\n",
              "  </tbody>\n",
              "</table>\n",
              "<p>262 rows × 2 columns</p>\n",
              "</div>"
            ],
            "text/plain": [
              "     PULocationID  trip_nums\n",
              "0              26        805\n",
              "1              29        844\n",
              "2              65      15833\n",
              "3             191       1780\n",
              "4             222       1228\n",
              "..            ...        ...\n",
              "257           105          7\n",
              "258           176         12\n",
              "259            59         41\n",
              "260            84         12\n",
              "261            27         14\n",
              "\n",
              "[262 rows x 2 columns]"
            ]
          },
          "execution_count": 20,
          "metadata": {},
          "output_type": "execute_result"
        }
      ],
      "source": [
        "# data analysis: showing the total number of trips in each locationID\n",
        "df.groupBy(\"PULocationID\").agg(count(\"*\").alias(\"trip_nums\")).toPandas()"
      ]
    },
    {
      "cell_type": "code",
      "execution_count": null,
      "metadata": {
        "colab": {
          "base_uri": "https://localhost:8080/",
          "height": 564
        },
        "id": "_mQj4hMPmGFu",
        "outputId": "723bede4-084b-471b-f39b-7183064b8d2d",
        "tags": []
      },
      "outputs": [
        {
          "name": "stderr",
          "output_type": "stream",
          "text": [
            "                                                                                \r"
          ]
        },
        {
          "data": {
            "image/png": "[encoded data removed]",
            "text/plain": [
              "<Figure size 1000x600 with 1 Axes>"
            ]
          },
          "metadata": {},
          "output_type": "display_data"
        }
      ],
      "source": [
        "df_location = df.groupBy(\"PULocationID\").agg(count(\"*\").alias(\"trip_nums\")).toPandas()\n",
        "\n",
        "plt.figure(figsize=(10, 6))\n",
        "plt.bar(df_location[\"PULocationID\"], df_location[\"trip_nums\"])\n",
        "plt.xlabel(\"LocationID\")\n",
        "plt.ylabel(\"# Trips\")\n",
        "plt.title(\"# Trips for each Location ID\")\n",
        "plt.show()"
      ]
    },
    {
      "cell_type": "code",
      "execution_count": null,
      "metadata": {
        "colab": {
          "base_uri": "https://localhost:8080/"
        },
        "id": "Pp1MhNvCQSQe",
        "outputId": "74eefaf8-c0e0-487e-f948-f2b1142415e5",
        "tags": []
      },
      "outputs": [
        {
          "name": "stderr",
          "output_type": "stream",
          "text": [
            "                                                                                \r"
          ]
        },
        {
          "name": "stdout",
          "output_type": "stream",
          "text": [
            "+------------+-------+\n",
            "|PULocationID|  count|\n",
            "+------------+-------+\n",
            "|         132|1498427|\n",
            "|         161|1267807|\n",
            "|         237|1267476|\n",
            "|         236|1116385|\n",
            "|         162| 975023|\n",
            "|         138| 958217|\n",
            "|         186| 954814|\n",
            "|         230| 912782|\n",
            "|         142| 881763|\n",
            "|         170| 818234|\n",
            "+------------+-------+\n",
            "\n"
          ]
        }
      ],
      "source": [
        "#best pickup locations\n",
        "def best_pickup_locations(df):\n",
        "    df=df.groupBy(\"PULocationID\").agg({\"PULocationID\": \"count\"})\n",
        "    df=df.sort(col('count(PULocationID)').desc())\n",
        "    df=df.select(col('PULocationID'), col('count(PULocationID)').alias('count')).limit(10)\n",
        "    return df\n",
        "best_pickup_locations(df).show()"
      ]
    },
    {
      "cell_type": "code",
      "execution_count": null,
      "metadata": {
        "id": "4Fdx5KXqQdqy",
        "tags": []
      },
      "outputs": [],
      "source": [
        "zones = spark.read.csv(\"./content/taxi_zones.csv\", header=True)"
      ]
    },
    {
      "cell_type": "code",
      "execution_count": null,
      "metadata": {
        "id": "palOhvRDQkzh",
        "tags": []
      },
      "outputs": [],
      "source": [
        "# Creating dataframe for pickup\n",
        "pickup_zone = zones.selectExpr(\"LocationID as LocationID_PU\", \"Zone as Zone_PU\", \"the_geom as Geometry\")"
      ]
    },
    {
      "cell_type": "code",
      "execution_count": null,
      "metadata": {
        "tags": [],
        "id": "P8EgYxYeUPTu"
      },
      "outputs": [],
      "source": [
        "import re\n",
        "def extract_coords(input_string):\n",
        "    \"\"\"\n",
        "    Given a Multipolygon object as a string, extract the list of coordinates\n",
        "    \"\"\"\n",
        "    pattern = r'(-?\\d+\\.\\d+\\s-?\\d+\\.\\d+)'\n",
        "\n",
        "    # Find all matches in the string\n",
        "    matches = re.findall(pattern, input_string)\n",
        "\n",
        "    # Extract coordinates from the matched pairs\n",
        "    coordinates = [tuple(map(float, match.split())) for match in matches]\n",
        "\n",
        "    return coordinates"
      ]
    },
    {
      "cell_type": "code",
      "execution_count": null,
      "metadata": {
        "tags": [],
        "id": "HNGRRsgkUPTu"
      },
      "outputs": [],
      "source": [
        "import numpy as np\n",
        "def calculate_center(vertices):\n",
        "    \"\"\"\n",
        "    Given a list of vertices of a Multipolygon, calculate the center as a coordinate\n",
        "    \"\"\"\n",
        "    return np.mean(vertices, axis=0).tolist()"
      ]
    },
    {
      "cell_type": "code",
      "execution_count": null,
      "metadata": {
        "tags": [],
        "id": "sucebocsUPTu"
      },
      "outputs": [],
      "source": [
        "from pyspark.sql.functions import udf\n",
        "from pyspark.sql.types import ArrayType, StringType, DoubleType\n",
        "\n",
        "coords_udf = udf(extract_coords, ArrayType(ArrayType(DoubleType())))\n",
        "center_udf = udf(calculate_center, ArrayType(DoubleType()))"
      ]
    },
    {
      "cell_type": "code",
      "execution_count": null,
      "metadata": {
        "tags": [],
        "id": "PB3eCjGwUPTu",
        "outputId": "243c70c5-7fc9-4298-af80-93d6097656d6"
      },
      "outputs": [
        {
          "name": "stderr",
          "output_type": "stream",
          "text": [
            "                                                                                \r"
          ]
        },
        {
          "data": {
            "text/html": [
              "<div>\n",
              "<style scoped>\n",
              "    .dataframe tbody tr th:only-of-type {\n",
              "        vertical-align: middle;\n",
              "    }\n",
              "\n",
              "    .dataframe tbody tr th {\n",
              "        vertical-align: top;\n",
              "    }\n",
              "\n",
              "    .dataframe thead th {\n",
              "        text-align: right;\n",
              "    }\n",
              "</style>\n",
              "<table border=\"1\" class=\"dataframe\">\n",
              "  <thead>\n",
              "    <tr style=\"text-align: right;\">\n",
              "      <th></th>\n",
              "      <th>LocationID_PU</th>\n",
              "      <th>Zone_PU</th>\n",
              "      <th>Geometry</th>\n",
              "      <th>vertices</th>\n",
              "      <th>centroids</th>\n",
              "      <th>long</th>\n",
              "      <th>lat</th>\n",
              "    </tr>\n",
              "  </thead>\n",
              "  <tbody>\n",
              "    <tr>\n",
              "      <th>0</th>\n",
              "      <td>1</td>\n",
              "      <td>Newark Airport</td>\n",
              "      <td>MULTIPOLYGON (((-74.18445299999996 40.69499599...</td>\n",
              "      <td>[[-74.18445299999996, 40.694995999999904], [-7...</td>\n",
              "      <td>[-74.174270275862, 40.69024330172404]</td>\n",
              "      <td>-74.174270</td>\n",
              "      <td>40.690243</td>\n",
              "    </tr>\n",
              "    <tr>\n",
              "      <th>1</th>\n",
              "      <td>2</td>\n",
              "      <td>Jamaica Bay</td>\n",
              "      <td>MULTIPOLYGON (((-73.82337597260663 40.63898704...</td>\n",
              "      <td>[[-73.82337597260663, 40.63898704717672], [-73...</td>\n",
              "      <td>[-73.8176429235687, 40.61216268077727]</td>\n",
              "      <td>-73.817643</td>\n",
              "      <td>40.612163</td>\n",
              "    </tr>\n",
              "    <tr>\n",
              "      <th>2</th>\n",
              "      <td>3</td>\n",
              "      <td>Allerton/Pelham Gardens</td>\n",
              "      <td>MULTIPOLYGON (((-73.84792614099985 40.87134223...</td>\n",
              "      <td>[[-73.84792614099985, 40.87134223399991], [-73...</td>\n",
              "      <td>[-73.8465098633635, 40.864294038404864]</td>\n",
              "      <td>-73.846510</td>\n",
              "      <td>40.864294</td>\n",
              "    </tr>\n",
              "    <tr>\n",
              "      <th>3</th>\n",
              "      <td>4</td>\n",
              "      <td>Alphabet City</td>\n",
              "      <td>MULTIPOLYGON (((-73.97177410965318 40.72582128...</td>\n",
              "      <td>[[-73.97177410965318, 40.72582128133706], [-73...</td>\n",
              "      <td>[-73.97520908904802, 40.723853149707395]</td>\n",
              "      <td>-73.975209</td>\n",
              "      <td>40.723853</td>\n",
              "    </tr>\n",
              "    <tr>\n",
              "      <th>4</th>\n",
              "      <td>5</td>\n",
              "      <td>Arden Heights</td>\n",
              "      <td>MULTIPOLYGON (((-74.17421738099989 40.56256808...</td>\n",
              "      <td>[[-74.17421738099989, 40.5625680859999], [-74....</td>\n",
              "      <td>[-74.18980260697641, 40.55667805421754]</td>\n",
              "      <td>-74.189803</td>\n",
              "      <td>40.556678</td>\n",
              "    </tr>\n",
              "  </tbody>\n",
              "</table>\n",
              "</div>"
            ],
            "text/plain": [
              "  LocationID_PU                  Zone_PU  \\\n",
              "0             1           Newark Airport   \n",
              "1             2              Jamaica Bay   \n",
              "2             3  Allerton/Pelham Gardens   \n",
              "3             4            Alphabet City   \n",
              "4             5            Arden Heights   \n",
              "\n",
              "                                            Geometry  \\\n",
              "0  MULTIPOLYGON (((-74.18445299999996 40.69499599...   \n",
              "1  MULTIPOLYGON (((-73.82337597260663 40.63898704...   \n",
              "2  MULTIPOLYGON (((-73.84792614099985 40.87134223...   \n",
              "3  MULTIPOLYGON (((-73.97177410965318 40.72582128...   \n",
              "4  MULTIPOLYGON (((-74.17421738099989 40.56256808...   \n",
              "\n",
              "                                            vertices  \\\n",
              "0  [[-74.18445299999996, 40.694995999999904], [-7...   \n",
              "1  [[-73.82337597260663, 40.63898704717672], [-73...   \n",
              "2  [[-73.84792614099985, 40.87134223399991], [-73...   \n",
              "3  [[-73.97177410965318, 40.72582128133706], [-73...   \n",
              "4  [[-74.17421738099989, 40.5625680859999], [-74....   \n",
              "\n",
              "                                  centroids       long        lat  \n",
              "0     [-74.174270275862, 40.69024330172404] -74.174270  40.690243  \n",
              "1    [-73.8176429235687, 40.61216268077727] -73.817643  40.612163  \n",
              "2   [-73.8465098633635, 40.864294038404864] -73.846510  40.864294  \n",
              "3  [-73.97520908904802, 40.723853149707395] -73.975209  40.723853  \n",
              "4   [-74.18980260697641, 40.55667805421754] -74.189803  40.556678  "
            ]
          },
          "execution_count": 28,
          "metadata": {},
          "output_type": "execute_result"
        }
      ],
      "source": [
        "zone_with_centers = pickup_zone.withColumn('vertices', coords_udf(col('Geometry'))) \\\n",
        "                                .withColumn('centroids', center_udf(col('vertices'))) \\\n",
        "                                .withColumn('long', col('centroids')[0]) \\\n",
        "                                .withColumn('lat', col('centroids')[1])\n",
        "\n",
        "zone_with_centers.limit(5).toPandas()"
      ]
    },
    {
      "cell_type": "code",
      "execution_count": null,
      "metadata": {
        "id": "gd2V9QfAQmld",
        "tags": []
      },
      "outputs": [],
      "source": [
        "df_zones = df.join(zone_with_centers, df.PULocationID == zone_with_centers.LocationID_PU, how='left')"
      ]
    },
    {
      "cell_type": "markdown",
      "source": [],
      "metadata": {
        "id": "Vh_UVCK3DWiK"
      }
    },
    {
      "cell_type": "code",
      "execution_count": null,
      "metadata": {
        "tags": [],
        "id": "nVeHkeS3UPTu"
      },
      "outputs": [],
      "source": [
        "from pyspark.sql.functions import hour, minute, lit\n",
        "# User input time\n",
        "USER_TIME = '15:00:00' # Example time"
      ]
    },
    {
      "cell_type": "code",
      "execution_count": null,
      "metadata": {
        "tags": [],
        "id": "6iGGxl7CUPTv"
      },
      "outputs": [],
      "source": [
        "windowed_df = df_zones.withColumn(\"hour\", hour(\"tpep_pickup_datetime\")) \\\n",
        "                        .withColumn(\"minute\", minute(\"tpep_pickup_datetime\")) \\\n",
        "                        .withColumn(\"user_hour\", hour(lit(USER_TIME))) \\\n",
        "                        .withColumn(\"user_minute\", minute(lit(USER_TIME))) \\\n",
        "                        .withColumn(\"time_diff\", (col(\"hour\") * 60 + col(\"minute\")) - (col(\"user_hour\") * 60 + col(\"user_minute\"))) \\\n",
        "                        .filter((col(\"time_diff\") >= -30) & (col(\"time_diff\") <= 30)) \\\n",
        "                        .select('tpep_pickup_datetime', 'tpep_dropoff_datetime', 'time_diff', 'Trip_distance', 'Passenger_count', 'PULocationID','DOLocationID', 'Zone_PU','long', 'lat', 'tip_amount', 'total_amount')"
      ]
    },
    {
      "cell_type": "code",
      "execution_count": null,
      "metadata": {
        "tags": [],
        "id": "1VfzfBfbUPTv",
        "outputId": "22369569-bbf5-4ecb-8a8b-ffdc4246f608"
      },
      "outputs": [
        {
          "name": "stderr",
          "output_type": "stream",
          "text": [
            "                                                                                \r"
          ]
        },
        {
          "data": {
            "text/html": [
              "<div>\n",
              "<style scoped>\n",
              "    .dataframe tbody tr th:only-of-type {\n",
              "        vertical-align: middle;\n",
              "    }\n",
              "\n",
              "    .dataframe tbody tr th {\n",
              "        vertical-align: top;\n",
              "    }\n",
              "\n",
              "    .dataframe thead th {\n",
              "        text-align: right;\n",
              "    }\n",
              "</style>\n",
              "<table border=\"1\" class=\"dataframe\">\n",
              "  <thead>\n",
              "    <tr style=\"text-align: right;\">\n",
              "      <th></th>\n",
              "      <th>tpep_pickup_datetime</th>\n",
              "      <th>tpep_dropoff_datetime</th>\n",
              "      <th>time_diff</th>\n",
              "      <th>Trip_distance</th>\n",
              "      <th>Passenger_count</th>\n",
              "      <th>PULocationID</th>\n",
              "      <th>DOLocationID</th>\n",
              "      <th>Zone_PU</th>\n",
              "      <th>long</th>\n",
              "      <th>lat</th>\n",
              "      <th>tip_amount</th>\n",
              "      <th>total_amount</th>\n",
              "    </tr>\n",
              "  </thead>\n",
              "  <tbody>\n",
              "    <tr>\n",
              "      <th>0</th>\n",
              "      <td>2022-12-31 14:39:43</td>\n",
              "      <td>2022-12-31 14:43:37</td>\n",
              "      <td>-21</td>\n",
              "      <td>0.54</td>\n",
              "      <td>1</td>\n",
              "      <td>163</td>\n",
              "      <td>162</td>\n",
              "      <td>Midtown North</td>\n",
              "      <td>-73.978757</td>\n",
              "      <td>40.765561</td>\n",
              "      <td>2.16</td>\n",
              "      <td>12.96</td>\n",
              "    </tr>\n",
              "    <tr>\n",
              "      <th>1</th>\n",
              "      <td>2022-12-31 15:14:12</td>\n",
              "      <td>2022-12-31 15:25:34</td>\n",
              "      <td>14</td>\n",
              "      <td>1.54</td>\n",
              "      <td>1</td>\n",
              "      <td>193</td>\n",
              "      <td>7</td>\n",
              "      <td>Queensbridge/Ravenswood</td>\n",
              "      <td>-73.939093</td>\n",
              "      <td>40.762743</td>\n",
              "      <td>0.00</td>\n",
              "      <td>13.20</td>\n",
              "    </tr>\n",
              "    <tr>\n",
              "      <th>2</th>\n",
              "      <td>2023-01-01 14:39:59</td>\n",
              "      <td>2023-01-01 14:52:58</td>\n",
              "      <td>-21</td>\n",
              "      <td>2.20</td>\n",
              "      <td>1</td>\n",
              "      <td>246</td>\n",
              "      <td>249</td>\n",
              "      <td>West Chelsea/Hudson Yards</td>\n",
              "      <td>-74.008111</td>\n",
              "      <td>40.750105</td>\n",
              "      <td>4.20</td>\n",
              "      <td>21.00</td>\n",
              "    </tr>\n",
              "    <tr>\n",
              "      <th>3</th>\n",
              "      <td>2023-01-01 14:31:15</td>\n",
              "      <td>2023-01-01 15:06:57</td>\n",
              "      <td>-29</td>\n",
              "      <td>11.69</td>\n",
              "      <td>1</td>\n",
              "      <td>140</td>\n",
              "      <td>177</td>\n",
              "      <td>Lenox Hill East</td>\n",
              "      <td>-73.955720</td>\n",
              "      <td>40.763907</td>\n",
              "      <td>10.92</td>\n",
              "      <td>65.52</td>\n",
              "    </tr>\n",
              "    <tr>\n",
              "      <th>4</th>\n",
              "      <td>2023-01-01 14:43:04</td>\n",
              "      <td>2023-01-01 14:50:40</td>\n",
              "      <td>-17</td>\n",
              "      <td>1.61</td>\n",
              "      <td>2</td>\n",
              "      <td>151</td>\n",
              "      <td>239</td>\n",
              "      <td>Manhattan Valley</td>\n",
              "      <td>-73.971010</td>\n",
              "      <td>40.799377</td>\n",
              "      <td>2.80</td>\n",
              "      <td>16.80</td>\n",
              "    </tr>\n",
              "  </tbody>\n",
              "</table>\n",
              "</div>"
            ],
            "text/plain": [
              "  tpep_pickup_datetime tpep_dropoff_datetime  time_diff  Trip_distance  \\\n",
              "0  2022-12-31 14:39:43   2022-12-31 14:43:37        -21           0.54   \n",
              "1  2022-12-31 15:14:12   2022-12-31 15:25:34         14           1.54   \n",
              "2  2023-01-01 14:39:59   2023-01-01 14:52:58        -21           2.20   \n",
              "3  2023-01-01 14:31:15   2023-01-01 15:06:57        -29          11.69   \n",
              "4  2023-01-01 14:43:04   2023-01-01 14:50:40        -17           1.61   \n",
              "\n",
              "   Passenger_count  PULocationID  DOLocationID                    Zone_PU  \\\n",
              "0                1           163           162              Midtown North   \n",
              "1                1           193             7    Queensbridge/Ravenswood   \n",
              "2                1           246           249  West Chelsea/Hudson Yards   \n",
              "3                1           140           177            Lenox Hill East   \n",
              "4                2           151           239           Manhattan Valley   \n",
              "\n",
              "        long        lat  tip_amount  total_amount  \n",
              "0 -73.978757  40.765561        2.16         12.96  \n",
              "1 -73.939093  40.762743        0.00         13.20  \n",
              "2 -74.008111  40.750105        4.20         21.00  \n",
              "3 -73.955720  40.763907       10.92         65.52  \n",
              "4 -73.971010  40.799377        2.80         16.80  "
            ]
          },
          "execution_count": 47,
          "metadata": {},
          "output_type": "execute_result"
        }
      ],
      "source": [
        "windowed_df.limit(5).toPandas()"
      ]
    },
    {
      "cell_type": "code",
      "execution_count": null,
      "metadata": {
        "id": "ThDdf0wWQohj",
        "tags": [],
        "outputId": "c4a675b3-9847-447f-8eaa-3ca026eb0cb5"
      },
      "outputs": [
        {
          "name": "stderr",
          "output_type": "stream",
          "text": [
            "                                                                                \r"
          ]
        }
      ],
      "source": [
        "pickup_count = df_zones.groupby(\"Zone_PU\").count().orderBy('count', ascending=False).limit(10).toPandas()"
      ]
    },
    {
      "cell_type": "code",
      "execution_count": null,
      "metadata": {
        "colab": {
          "base_uri": "https://localhost:8080/",
          "height": 564
        },
        "id": "wsn4y8sAQqay",
        "outputId": "9a234340-e403-4ffa-9f55-b1d7ea663df2",
        "tags": []
      },
      "outputs": [
        {
          "data": {
            "image/png": "[encoded data removed]",
            "text/plain": [
              "<Figure size 1000x600 with 1 Axes>"
            ]
          },
          "metadata": {},
          "output_type": "display_data"
        }
      ],
      "source": [
        "plt.figure(figsize=(10,6))\n",
        "plt.barh(pickup_count['Zone_PU'], pickup_count['count'])\n",
        "plt.title('Top 10 Pickup Zones')\n",
        "plt.xlabel('Count')\n",
        "plt.ylabel('Pickup Zone')\n",
        "plt.show()"
      ]
    },
    {
      "cell_type": "code",
      "execution_count": null,
      "metadata": {
        "tags": [],
        "id": "5J_qPjb0UPTv"
      },
      "outputs": [],
      "source": [
        "# Running pyspark.ml.KMeans to determine best area to be as a yellow cab driver\n",
        "from pyspark.ml.feature import VectorAssembler\n",
        "from pyspark.ml.clustering import KMeans"
      ]
    },
    {
      "cell_type": "code",
      "execution_count": null,
      "metadata": {
        "tags": [],
        "id": "f-g1uMLDUPTv"
      },
      "outputs": [],
      "source": [
        "assembler = VectorAssembler(inputCols = ['long','lat'], outputCol='features', handleInvalid=\"skip\")\n",
        "\n",
        "assembled_df = assembler.transform(windowed_df)"
      ]
    },
    {
      "cell_type": "code",
      "execution_count": null,
      "metadata": {
        "tags": [],
        "id": "B2_q-ueKUPTv",
        "outputId": "7d8a9f9e-c083-4b9b-832f-efb30a7f173c"
      },
      "outputs": [
        {
          "name": "stderr",
          "output_type": "stream",
          "text": [
            "23/12/06 17:44:40 WARN BlockManager: Asked to remove block broadcast_181_piece0, which does not exist\n",
            "                                                                                \r"
          ]
        }
      ],
      "source": [
        "kmeans = KMeans(k=5, seed=42)\n",
        "model = kmeans.fit(assembled_df.select('features'))"
      ]
    },
    {
      "cell_type": "code",
      "execution_count": null,
      "metadata": {
        "tags": [],
        "id": "dSGQoPuQUPTv"
      },
      "outputs": [],
      "source": [
        "transformed = model.transform(assembled_df)"
      ]
    },
    {
      "cell_type": "code",
      "execution_count": null,
      "metadata": {
        "tags": [],
        "id": "eS8g5DLKUPT2",
        "outputId": "2dd382d9-a646-4629-d5d7-138a25321938"
      },
      "outputs": [
        {
          "name": "stderr",
          "output_type": "stream",
          "text": [
            "                                                                                \r"
          ]
        },
        {
          "data": {
            "text/html": [
              "<div>\n",
              "<style scoped>\n",
              "    .dataframe tbody tr th:only-of-type {\n",
              "        vertical-align: middle;\n",
              "    }\n",
              "\n",
              "    .dataframe tbody tr th {\n",
              "        vertical-align: top;\n",
              "    }\n",
              "\n",
              "    .dataframe thead th {\n",
              "        text-align: right;\n",
              "    }\n",
              "</style>\n",
              "<table border=\"1\" class=\"dataframe\">\n",
              "  <thead>\n",
              "    <tr style=\"text-align: right;\">\n",
              "      <th></th>\n",
              "      <th>tpep_pickup_datetime</th>\n",
              "      <th>tpep_dropoff_datetime</th>\n",
              "      <th>time_diff</th>\n",
              "      <th>Trip_distance</th>\n",
              "      <th>Passenger_count</th>\n",
              "      <th>PULocationID</th>\n",
              "      <th>DOLocationID</th>\n",
              "      <th>Zone_PU</th>\n",
              "      <th>long</th>\n",
              "      <th>lat</th>\n",
              "      <th>tip_amount</th>\n",
              "      <th>total_amount</th>\n",
              "      <th>features</th>\n",
              "      <th>prediction</th>\n",
              "    </tr>\n",
              "  </thead>\n",
              "  <tbody>\n",
              "    <tr>\n",
              "      <th>0</th>\n",
              "      <td>2022-12-31 14:39:43</td>\n",
              "      <td>2022-12-31 14:43:37</td>\n",
              "      <td>-21</td>\n",
              "      <td>0.54</td>\n",
              "      <td>1</td>\n",
              "      <td>163</td>\n",
              "      <td>162</td>\n",
              "      <td>Midtown North</td>\n",
              "      <td>-73.978757</td>\n",
              "      <td>40.765561</td>\n",
              "      <td>2.16</td>\n",
              "      <td>12.96</td>\n",
              "      <td>[-73.9787569469772, 40.76556053479537]</td>\n",
              "      <td>0</td>\n",
              "    </tr>\n",
              "    <tr>\n",
              "      <th>1</th>\n",
              "      <td>2022-12-31 15:14:12</td>\n",
              "      <td>2022-12-31 15:25:34</td>\n",
              "      <td>14</td>\n",
              "      <td>1.54</td>\n",
              "      <td>1</td>\n",
              "      <td>193</td>\n",
              "      <td>7</td>\n",
              "      <td>Queensbridge/Ravenswood</td>\n",
              "      <td>-73.939093</td>\n",
              "      <td>40.762743</td>\n",
              "      <td>0.00</td>\n",
              "      <td>13.20</td>\n",
              "      <td>[-73.93909312925491, 40.76274259483616]</td>\n",
              "      <td>4</td>\n",
              "    </tr>\n",
              "    <tr>\n",
              "      <th>2</th>\n",
              "      <td>2023-01-01 14:39:59</td>\n",
              "      <td>2023-01-01 14:52:58</td>\n",
              "      <td>-21</td>\n",
              "      <td>2.20</td>\n",
              "      <td>1</td>\n",
              "      <td>246</td>\n",
              "      <td>249</td>\n",
              "      <td>West Chelsea/Hudson Yards</td>\n",
              "      <td>-74.008111</td>\n",
              "      <td>40.750105</td>\n",
              "      <td>4.20</td>\n",
              "      <td>21.00</td>\n",
              "      <td>[-74.00811097157023, 40.75010482577549]</td>\n",
              "      <td>2</td>\n",
              "    </tr>\n",
              "    <tr>\n",
              "      <th>3</th>\n",
              "      <td>2023-01-01 14:31:15</td>\n",
              "      <td>2023-01-01 15:06:57</td>\n",
              "      <td>-29</td>\n",
              "      <td>11.69</td>\n",
              "      <td>1</td>\n",
              "      <td>140</td>\n",
              "      <td>177</td>\n",
              "      <td>Lenox Hill East</td>\n",
              "      <td>-73.955720</td>\n",
              "      <td>40.763907</td>\n",
              "      <td>10.92</td>\n",
              "      <td>65.52</td>\n",
              "      <td>[-73.95571997200136, 40.76390679108292]</td>\n",
              "      <td>0</td>\n",
              "    </tr>\n",
              "    <tr>\n",
              "      <th>4</th>\n",
              "      <td>2023-01-01 14:43:04</td>\n",
              "      <td>2023-01-01 14:50:40</td>\n",
              "      <td>-17</td>\n",
              "      <td>1.61</td>\n",
              "      <td>2</td>\n",
              "      <td>151</td>\n",
              "      <td>239</td>\n",
              "      <td>Manhattan Valley</td>\n",
              "      <td>-73.971010</td>\n",
              "      <td>40.799377</td>\n",
              "      <td>2.80</td>\n",
              "      <td>16.80</td>\n",
              "      <td>[-73.97100993152024, 40.7993770621872]</td>\n",
              "      <td>4</td>\n",
              "    </tr>\n",
              "    <tr>\n",
              "      <th>5</th>\n",
              "      <td>2023-01-01 14:52:15</td>\n",
              "      <td>2023-01-01 15:14:10</td>\n",
              "      <td>-8</td>\n",
              "      <td>4.74</td>\n",
              "      <td>2</td>\n",
              "      <td>239</td>\n",
              "      <td>158</td>\n",
              "      <td>Upper West Side South</td>\n",
              "      <td>-73.983170</td>\n",
              "      <td>40.784791</td>\n",
              "      <td>2.94</td>\n",
              "      <td>32.34</td>\n",
              "      <td>[-73.98317024389998, 40.78479094272763]</td>\n",
              "      <td>0</td>\n",
              "    </tr>\n",
              "    <tr>\n",
              "      <th>6</th>\n",
              "      <td>2023-01-01 14:55:44</td>\n",
              "      <td>2023-01-01 15:05:15</td>\n",
              "      <td>-5</td>\n",
              "      <td>2.23</td>\n",
              "      <td>1</td>\n",
              "      <td>114</td>\n",
              "      <td>164</td>\n",
              "      <td>Greenwich Village South</td>\n",
              "      <td>-73.996964</td>\n",
              "      <td>40.727635</td>\n",
              "      <td>3.22</td>\n",
              "      <td>19.32</td>\n",
              "      <td>[-73.99696399176183, 40.727634697071345]</td>\n",
              "      <td>2</td>\n",
              "    </tr>\n",
              "    <tr>\n",
              "      <th>7</th>\n",
              "      <td>2023-01-01 14:45:56</td>\n",
              "      <td>2023-01-01 14:54:15</td>\n",
              "      <td>-15</td>\n",
              "      <td>2.40</td>\n",
              "      <td>0</td>\n",
              "      <td>107</td>\n",
              "      <td>140</td>\n",
              "      <td>Gramercy</td>\n",
              "      <td>-73.984269</td>\n",
              "      <td>40.736706</td>\n",
              "      <td>2.00</td>\n",
              "      <td>18.10</td>\n",
              "      <td>[-73.98426922264278, 40.73670614808919]</td>\n",
              "      <td>2</td>\n",
              "    </tr>\n",
              "    <tr>\n",
              "      <th>8</th>\n",
              "      <td>2023-01-01 14:48:08</td>\n",
              "      <td>2023-01-01 14:58:08</td>\n",
              "      <td>-12</td>\n",
              "      <td>2.10</td>\n",
              "      <td>2</td>\n",
              "      <td>79</td>\n",
              "      <td>164</td>\n",
              "      <td>East Village</td>\n",
              "      <td>-73.986487</td>\n",
              "      <td>40.726759</td>\n",
              "      <td>3.35</td>\n",
              "      <td>20.15</td>\n",
              "      <td>[-73.98648683022024, 40.72675919871179]</td>\n",
              "      <td>2</td>\n",
              "    </tr>\n",
              "    <tr>\n",
              "      <th>9</th>\n",
              "      <td>2023-01-01 14:58:21</td>\n",
              "      <td>2023-01-01 15:06:08</td>\n",
              "      <td>-2</td>\n",
              "      <td>1.12</td>\n",
              "      <td>3</td>\n",
              "      <td>151</td>\n",
              "      <td>166</td>\n",
              "      <td>Manhattan Valley</td>\n",
              "      <td>-73.971010</td>\n",
              "      <td>40.799377</td>\n",
              "      <td>2.70</td>\n",
              "      <td>13.50</td>\n",
              "      <td>[-73.97100993152024, 40.7993770621872]</td>\n",
              "      <td>4</td>\n",
              "    </tr>\n",
              "  </tbody>\n",
              "</table>\n",
              "</div>"
            ],
            "text/plain": [
              "  tpep_pickup_datetime tpep_dropoff_datetime  time_diff  Trip_distance  \\\n",
              "0  2022-12-31 14:39:43   2022-12-31 14:43:37        -21           0.54   \n",
              "1  2022-12-31 15:14:12   2022-12-31 15:25:34         14           1.54   \n",
              "2  2023-01-01 14:39:59   2023-01-01 14:52:58        -21           2.20   \n",
              "3  2023-01-01 14:31:15   2023-01-01 15:06:57        -29          11.69   \n",
              "4  2023-01-01 14:43:04   2023-01-01 14:50:40        -17           1.61   \n",
              "5  2023-01-01 14:52:15   2023-01-01 15:14:10         -8           4.74   \n",
              "6  2023-01-01 14:55:44   2023-01-01 15:05:15         -5           2.23   \n",
              "7  2023-01-01 14:45:56   2023-01-01 14:54:15        -15           2.40   \n",
              "8  2023-01-01 14:48:08   2023-01-01 14:58:08        -12           2.10   \n",
              "9  2023-01-01 14:58:21   2023-01-01 15:06:08         -2           1.12   \n",
              "\n",
              "   Passenger_count  PULocationID  DOLocationID                    Zone_PU  \\\n",
              "0                1           163           162              Midtown North   \n",
              "1                1           193             7    Queensbridge/Ravenswood   \n",
              "2                1           246           249  West Chelsea/Hudson Yards   \n",
              "3                1           140           177            Lenox Hill East   \n",
              "4                2           151           239           Manhattan Valley   \n",
              "5                2           239           158      Upper West Side South   \n",
              "6                1           114           164    Greenwich Village South   \n",
              "7                0           107           140                   Gramercy   \n",
              "8                2            79           164               East Village   \n",
              "9                3           151           166           Manhattan Valley   \n",
              "\n",
              "        long        lat  tip_amount  total_amount  \\\n",
              "0 -73.978757  40.765561        2.16         12.96   \n",
              "1 -73.939093  40.762743        0.00         13.20   \n",
              "2 -74.008111  40.750105        4.20         21.00   \n",
              "3 -73.955720  40.763907       10.92         65.52   \n",
              "4 -73.971010  40.799377        2.80         16.80   \n",
              "5 -73.983170  40.784791        2.94         32.34   \n",
              "6 -73.996964  40.727635        3.22         19.32   \n",
              "7 -73.984269  40.736706        2.00         18.10   \n",
              "8 -73.986487  40.726759        3.35         20.15   \n",
              "9 -73.971010  40.799377        2.70         13.50   \n",
              "\n",
              "                                   features  prediction  \n",
              "0    [-73.9787569469772, 40.76556053479537]           0  \n",
              "1   [-73.93909312925491, 40.76274259483616]           4  \n",
              "2   [-74.00811097157023, 40.75010482577549]           2  \n",
              "3   [-73.95571997200136, 40.76390679108292]           0  \n",
              "4    [-73.97100993152024, 40.7993770621872]           4  \n",
              "5   [-73.98317024389998, 40.78479094272763]           0  \n",
              "6  [-73.99696399176183, 40.727634697071345]           2  \n",
              "7   [-73.98426922264278, 40.73670614808919]           2  \n",
              "8   [-73.98648683022024, 40.72675919871179]           2  \n",
              "9    [-73.97100993152024, 40.7993770621872]           4  "
            ]
          },
          "execution_count": 54,
          "metadata": {},
          "output_type": "execute_result"
        }
      ],
      "source": [
        "transformed.limit(10).toPandas()"
      ]
    },
    {
      "cell_type": "code",
      "execution_count": null,
      "metadata": {
        "tags": [],
        "id": "rVpJeCc1UPT2"
      },
      "outputs": [],
      "source": [
        "# Determine the average revenue for each cluster\n",
        "avg_revenue = transformed.groupBy('Prediction') \\\n",
        "                    .agg({'total_amount': 'avg'}) \\\n",
        "                    .withColumnRenamed('avg(total_amount)', 'Average Revenue') \\\n",
        "                    .withColumnRenamed('Prediction', 'Cluster') \\\n",
        "                    .select('Cluster', 'Average Revenue')\n",
        "\n",
        "# Determine the average tip for each cluster\n",
        "avg_tip = transformed.groupBy('Prediction') \\\n",
        "                    .agg({'tip_amount': 'avg'}) \\\n",
        "                    .withColumnRenamed('avg(tip_amount)', 'Average Tip') \\\n",
        "                    .withColumnRenamed('Prediction', 'Cluster') \\\n",
        "                    .select('Cluster', 'Average Tip')"
      ]
    },
    {
      "cell_type": "code",
      "execution_count": null,
      "metadata": {
        "tags": [],
        "id": "ZnG_q576UPT2",
        "outputId": "cf5d8357-284a-43ef-a0ac-b1e856a7d60a"
      },
      "outputs": [
        {
          "name": "stderr",
          "output_type": "stream",
          "text": [
            "                                                                                \r"
          ]
        },
        {
          "data": {
            "text/html": [
              "<div>\n",
              "<style scoped>\n",
              "    .dataframe tbody tr th:only-of-type {\n",
              "        vertical-align: middle;\n",
              "    }\n",
              "\n",
              "    .dataframe tbody tr th {\n",
              "        vertical-align: top;\n",
              "    }\n",
              "\n",
              "    .dataframe thead th {\n",
              "        text-align: right;\n",
              "    }\n",
              "</style>\n",
              "<table border=\"1\" class=\"dataframe\">\n",
              "  <thead>\n",
              "    <tr style=\"text-align: right;\">\n",
              "      <th></th>\n",
              "      <th>Cluster</th>\n",
              "      <th>Average Revenue</th>\n",
              "    </tr>\n",
              "  </thead>\n",
              "  <tbody>\n",
              "    <tr>\n",
              "      <th>0</th>\n",
              "      <td>1</td>\n",
              "      <td>79.495502</td>\n",
              "    </tr>\n",
              "    <tr>\n",
              "      <th>1</th>\n",
              "      <td>3</td>\n",
              "      <td>65.695076</td>\n",
              "    </tr>\n",
              "    <tr>\n",
              "      <th>2</th>\n",
              "      <td>4</td>\n",
              "      <td>21.143833</td>\n",
              "    </tr>\n",
              "    <tr>\n",
              "      <th>3</th>\n",
              "      <td>2</td>\n",
              "      <td>25.340200</td>\n",
              "    </tr>\n",
              "    <tr>\n",
              "      <th>4</th>\n",
              "      <td>0</td>\n",
              "      <td>23.849097</td>\n",
              "    </tr>\n",
              "  </tbody>\n",
              "</table>\n",
              "</div>"
            ],
            "text/plain": [
              "   Cluster  Average Revenue\n",
              "0        1        79.495502\n",
              "1        3        65.695076\n",
              "2        4        21.143833\n",
              "3        2        25.340200\n",
              "4        0        23.849097"
            ]
          },
          "execution_count": 56,
          "metadata": {},
          "output_type": "execute_result"
        }
      ],
      "source": [
        "avg_revenue.toPandas()"
      ]
    },
    {
      "cell_type": "code",
      "execution_count": null,
      "metadata": {
        "tags": [],
        "id": "T_sYK0ifUPT2",
        "outputId": "cbfe5088-2fa3-418d-b72f-222e05b7f1f0"
      },
      "outputs": [
        {
          "name": "stderr",
          "output_type": "stream",
          "text": [
            "                                                                                \r"
          ]
        },
        {
          "data": {
            "text/html": [
              "<div>\n",
              "<style scoped>\n",
              "    .dataframe tbody tr th:only-of-type {\n",
              "        vertical-align: middle;\n",
              "    }\n",
              "\n",
              "    .dataframe tbody tr th {\n",
              "        vertical-align: top;\n",
              "    }\n",
              "\n",
              "    .dataframe thead th {\n",
              "        text-align: right;\n",
              "    }\n",
              "</style>\n",
              "<table border=\"1\" class=\"dataframe\">\n",
              "  <thead>\n",
              "    <tr style=\"text-align: right;\">\n",
              "      <th></th>\n",
              "      <th>Cluster</th>\n",
              "      <th>Average Tip</th>\n",
              "    </tr>\n",
              "  </thead>\n",
              "  <tbody>\n",
              "    <tr>\n",
              "      <th>0</th>\n",
              "      <td>1</td>\n",
              "      <td>8.732092</td>\n",
              "    </tr>\n",
              "    <tr>\n",
              "      <th>1</th>\n",
              "      <td>3</td>\n",
              "      <td>8.467478</td>\n",
              "    </tr>\n",
              "    <tr>\n",
              "      <th>2</th>\n",
              "      <td>4</td>\n",
              "      <td>2.602149</td>\n",
              "    </tr>\n",
              "    <tr>\n",
              "      <th>3</th>\n",
              "      <td>2</td>\n",
              "      <td>3.156686</td>\n",
              "    </tr>\n",
              "    <tr>\n",
              "      <th>4</th>\n",
              "      <td>0</td>\n",
              "      <td>2.966183</td>\n",
              "    </tr>\n",
              "  </tbody>\n",
              "</table>\n",
              "</div>"
            ],
            "text/plain": [
              "   Cluster  Average Tip\n",
              "0        1     8.732092\n",
              "1        3     8.467478\n",
              "2        4     2.602149\n",
              "3        2     3.156686\n",
              "4        0     2.966183"
            ]
          },
          "execution_count": 57,
          "metadata": {},
          "output_type": "execute_result"
        }
      ],
      "source": [
        "avg_tip.toPandas()"
      ]
    },
    {
      "cell_type": "code",
      "execution_count": null,
      "metadata": {
        "tags": [],
        "id": "cS7SmU-iUPT2",
        "outputId": "ae928bb3-f6ba-430a-c6bf-a1ca30b8c4be"
      },
      "outputs": [
        {
          "name": "stderr",
          "output_type": "stream",
          "text": [
            "                                                                                \r"
          ]
        },
        {
          "data": {
            "text/html": [
              "<div>\n",
              "<style scoped>\n",
              "    .dataframe tbody tr th:only-of-type {\n",
              "        vertical-align: middle;\n",
              "    }\n",
              "\n",
              "    .dataframe tbody tr th {\n",
              "        vertical-align: top;\n",
              "    }\n",
              "\n",
              "    .dataframe thead th {\n",
              "        text-align: right;\n",
              "    }\n",
              "</style>\n",
              "<table border=\"1\" class=\"dataframe\">\n",
              "  <thead>\n",
              "    <tr style=\"text-align: right;\">\n",
              "      <th></th>\n",
              "      <th>Cluster</th>\n",
              "      <th>Centroid Longitude</th>\n",
              "      <th>Centroid Latitude</th>\n",
              "    </tr>\n",
              "  </thead>\n",
              "  <tbody>\n",
              "    <tr>\n",
              "      <th>0</th>\n",
              "      <td>1</td>\n",
              "      <td>-73.784329</td>\n",
              "      <td>40.640388</td>\n",
              "    </tr>\n",
              "    <tr>\n",
              "      <th>1</th>\n",
              "      <td>3</td>\n",
              "      <td>-73.871681</td>\n",
              "      <td>40.773241</td>\n",
              "    </tr>\n",
              "    <tr>\n",
              "      <th>2</th>\n",
              "      <td>4</td>\n",
              "      <td>-73.958292</td>\n",
              "      <td>40.785653</td>\n",
              "    </tr>\n",
              "    <tr>\n",
              "      <th>3</th>\n",
              "      <td>2</td>\n",
              "      <td>-73.996985</td>\n",
              "      <td>40.733642</td>\n",
              "    </tr>\n",
              "    <tr>\n",
              "      <th>4</th>\n",
              "      <td>0</td>\n",
              "      <td>-73.975715</td>\n",
              "      <td>40.762317</td>\n",
              "    </tr>\n",
              "  </tbody>\n",
              "</table>\n",
              "</div>"
            ],
            "text/plain": [
              "   Cluster  Centroid Longitude  Centroid Latitude\n",
              "0        1          -73.784329          40.640388\n",
              "1        3          -73.871681          40.773241\n",
              "2        4          -73.958292          40.785653\n",
              "3        2          -73.996985          40.733642\n",
              "4        0          -73.975715          40.762317"
            ]
          },
          "execution_count": 58,
          "metadata": {},
          "output_type": "execute_result"
        }
      ],
      "source": [
        "# Determine cluster centers\n",
        "cluster_centers = transformed.groupBy('Prediction') \\\n",
        "                            .agg({'long': 'avg', 'lat': 'avg'}) \\\n",
        "                            .withColumnRenamed('avg(long)', 'Centroid Longitude') \\\n",
        "                            .withColumnRenamed('avg(lat)', 'Centroid Latitude') \\\n",
        "                            .withColumnRenamed('Prediction', 'Cluster') \\\n",
        "                            .select('Cluster', 'Centroid Longitude', 'Centroid Latitude')\n",
        "\n",
        "cluster_centers.toPandas()"
      ]
    }
  ]
}